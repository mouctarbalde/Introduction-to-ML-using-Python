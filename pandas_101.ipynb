{
  "nbformat": 4,
  "nbformat_minor": 0,
  "metadata": {
    "colab": {
      "name": "pandas 101.ipynb",
      "private_outputs": true,
      "provenance": []
    },
    "kernelspec": {
      "name": "python3",
      "display_name": "Python 3"
    },
    "language_info": {
      "name": "python"
    }
  },
  "cells": [
    {
      "cell_type": "code",
      "execution_count": null,
      "metadata": {
        "id": "zltI_AiCLngB"
      },
      "outputs": [],
      "source": [
        "from pandas import Series"
      ]
    },
    {
      "cell_type": "code",
      "source": [
        "mylist = [1,2,3,4,5]\n",
        "print(mylist)"
      ],
      "metadata": {
        "id": "YlOv_PzjMM4m"
      },
      "execution_count": null,
      "outputs": []
    },
    {
      "cell_type": "code",
      "source": [
        "type(mylist)"
      ],
      "metadata": {
        "id": "BqDxC1QrM1Ia"
      },
      "execution_count": null,
      "outputs": []
    },
    {
      "cell_type": "code",
      "source": [
        "s = Series(mylist)\n",
        "s"
      ],
      "metadata": {
        "id": "k4QSVIqlMXwT"
      },
      "execution_count": null,
      "outputs": []
    },
    {
      "cell_type": "code",
      "source": [
        "type(s)"
      ],
      "metadata": {
        "id": "r5mg25pEMyXD"
      },
      "execution_count": null,
      "outputs": []
    },
    {
      "cell_type": "code",
      "source": [
        "ss = s*2\n",
        "ss"
      ],
      "metadata": {
        "id": "f4yif2HLM8Tp"
      },
      "execution_count": null,
      "outputs": []
    },
    {
      "cell_type": "code",
      "source": [
        "mylist*2"
      ],
      "metadata": {
        "id": "gG4kiHXMNH0v"
      },
      "execution_count": null,
      "outputs": []
    },
    {
      "cell_type": "code",
      "source": [
        "mys = Series(mylist, dtype='float')\n",
        "mys"
      ],
      "metadata": {
        "id": "nOCY85MuNMcz"
      },
      "execution_count": null,
      "outputs": []
    },
    {
      "cell_type": "code",
      "source": [
        "mysi = Series(mylist, index=list('abcde'))\n",
        "mysi"
      ],
      "metadata": {
        "id": "mkl2GEY3Nfhl"
      },
      "execution_count": null,
      "outputs": []
    },
    {
      "cell_type": "code",
      "source": [
        "mysi['c'] = 10\n",
        "mysi"
      ],
      "metadata": {
        "id": "uVM7BBdATKDB"
      },
      "execution_count": null,
      "outputs": []
    },
    {
      "cell_type": "code",
      "source": [
        "s/2"
      ],
      "metadata": {
        "id": "sYqIQa5UOAOV"
      },
      "execution_count": null,
      "outputs": []
    },
    {
      "cell_type": "code",
      "source": [
        "mylist"
      ],
      "metadata": {
        "id": "DfcDO8H1OVJD"
      },
      "execution_count": null,
      "outputs": []
    },
    {
      "cell_type": "code",
      "source": [
        "mylist[2]=10\n",
        "mylist"
      ],
      "metadata": {
        "id": "1rrFghb2OYFI"
      },
      "execution_count": null,
      "outputs": []
    },
    {
      "cell_type": "code",
      "source": [
        "s"
      ],
      "metadata": {
        "id": "WDWnNYcGOvBG"
      },
      "execution_count": null,
      "outputs": []
    },
    {
      "cell_type": "code",
      "source": [
        "s[2]=10\n",
        "s"
      ],
      "metadata": {
        "id": "A0CrOBe1Oxvl"
      },
      "execution_count": null,
      "outputs": []
    },
    {
      "cell_type": "code",
      "source": [
        "s[2]"
      ],
      "metadata": {
        "id": "OV-ZtYsnO289"
      },
      "execution_count": null,
      "outputs": []
    },
    {
      "cell_type": "code",
      "source": [
        "ss.max()"
      ],
      "metadata": {
        "id": "fskZMD90PHAM"
      },
      "execution_count": null,
      "outputs": []
    },
    {
      "cell_type": "code",
      "source": [
        "\n",
        "ss.min()"
      ],
      "metadata": {
        "id": "BEntQ9oYTa_g"
      },
      "execution_count": null,
      "outputs": []
    },
    {
      "cell_type": "markdown",
      "source": [
        "# DataFrame"
      ],
      "metadata": {
        "id": "TCatCVDvTtGA"
      }
    },
    {
      "cell_type": "code",
      "source": [
        "from pandas import DataFrame"
      ],
      "metadata": {
        "id": "LtvS6s-nTm25"
      },
      "execution_count": null,
      "outputs": []
    },
    {
      "cell_type": "code",
      "source": [
        "mydf = DataFrame(mylist,columns=['num'])\n",
        "mydf"
      ],
      "metadata": {
        "id": "U3WR00oST1P9"
      },
      "execution_count": null,
      "outputs": []
    },
    {
      "cell_type": "code",
      "source": [
        "type(mydf)"
      ],
      "metadata": {
        "id": "8AmRaW01UA4X"
      },
      "execution_count": null,
      "outputs": []
    },
    {
      "cell_type": "code",
      "source": [
        "ss.dtype"
      ],
      "metadata": {
        "id": "G-wMZn3yVFuS"
      },
      "execution_count": null,
      "outputs": []
    },
    {
      "cell_type": "code",
      "source": [
        "ss[1]='bahhh'"
      ],
      "metadata": {
        "id": "dw6xgNsvVmEE"
      },
      "execution_count": null,
      "outputs": []
    },
    {
      "cell_type": "code",
      "source": [
        "mydf*2"
      ],
      "metadata": {
        "id": "N0CikNthVrJG"
      },
      "execution_count": null,
      "outputs": []
    },
    {
      "cell_type": "code",
      "source": [
        ""
      ],
      "metadata": {
        "id": "Xml7aiwUW9No"
      },
      "execution_count": null,
      "outputs": []
    },
    {
      "cell_type": "code",
      "source": [
        "mydic = {\n",
        "    'Name':['Abdoulaye','Mouctar','Ousmane'],\n",
        "    'Age':[23,13,34],\n",
        "    'Country':['Guinea','Guinea','Mali']\n",
        "}"
      ],
      "metadata": {
        "id": "6sc5hT96V97o"
      },
      "execution_count": null,
      "outputs": []
    },
    {
      "cell_type": "code",
      "source": [
        "mydic"
      ],
      "metadata": {
        "id": "q49FSSjkWmwQ"
      },
      "execution_count": null,
      "outputs": []
    },
    {
      "cell_type": "code",
      "source": [
        "df = DataFrame(mydic)\n",
        "df"
      ],
      "metadata": {
        "id": "ymrVkvK4Wpba"
      },
      "execution_count": null,
      "outputs": []
    },
    {
      "cell_type": "code",
      "source": [
        "df['Age']"
      ],
      "metadata": {
        "id": "DxGla3LzWxC0"
      },
      "execution_count": null,
      "outputs": []
    },
    {
      "cell_type": "code",
      "source": [
        "df.dtypes"
      ],
      "metadata": {
        "id": "r1YpnCjBW4xR"
      },
      "execution_count": null,
      "outputs": []
    },
    {
      "cell_type": "code",
      "source": [
        "df['Age'].mean()"
      ],
      "metadata": {
        "id": "n_rJZ5GUZMP5"
      },
      "execution_count": null,
      "outputs": []
    },
    {
      "cell_type": "code",
      "source": [
        "df"
      ],
      "metadata": {
        "id": "GDyew30ZZZ8Y"
      },
      "execution_count": null,
      "outputs": []
    },
    {
      "cell_type": "code",
      "source": [
        "columns_name = ['names','ages','countries']\n",
        "columns_name"
      ],
      "metadata": {
        "id": "wuWdqTjOZge_"
      },
      "execution_count": null,
      "outputs": []
    },
    {
      "cell_type": "code",
      "source": [
        "df.columns = columns_name\n"
      ],
      "metadata": {
        "id": "lmXFSGFvZ4XC"
      },
      "execution_count": null,
      "outputs": []
    },
    {
      "cell_type": "code",
      "source": [
        "df.to_csv('students.csv',index=False)"
      ],
      "metadata": {
        "id": "LqpIC-oNZ-gs"
      },
      "execution_count": null,
      "outputs": []
    },
    {
      "cell_type": "code",
      "source": [
        "import pandas as pd"
      ],
      "metadata": {
        "id": "AZLFknixaJlE"
      },
      "execution_count": null,
      "outputs": []
    },
    {
      "cell_type": "code",
      "source": [
        "st = pd.read_csv('students.csv')\n",
        "st"
      ],
      "metadata": {
        "id": "xg9vf02gbOB2"
      },
      "execution_count": null,
      "outputs": []
    },
    {
      "cell_type": "code",
      "source": [
        ""
      ],
      "metadata": {
        "id": "37MGUsC4bUEz"
      },
      "execution_count": null,
      "outputs": []
    }
  ]
}